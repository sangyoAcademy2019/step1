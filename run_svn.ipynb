{
  "nbformat": 4,
  "nbformat_minor": 0,
  "metadata": {
    "colab": {
      "name": "run_svn.ipynb",
      "version": "0.3.2",
      "provenance": [],
      "collapsed_sections": [],
      "include_colab_link": true
    },
    "language_info": {
      "codemirror_mode": {
        "name": "ipython",
        "version": 3
      },
      "file_extension": ".py",
      "mimetype": "text/x-python",
      "name": "python",
      "nbconvert_exporter": "python",
      "pygments_lexer": "ipython3",
      "version": "3.7.3"
    },
    "kernelspec": {
      "display_name": "Python 3",
      "language": "python",
      "name": "python3"
    }
  },
  "cells": [
    {
      "cell_type": "markdown",
      "metadata": {
        "id": "view-in-github",
        "colab_type": "text"
      },
      "source": [
        "<a href=\"https://colab.research.google.com/github/sangyoAcademy2019/step1/blob/master/run_svn.ipynb\" target=\"_parent\"><img src=\"https://colab.research.google.com/assets/colab-badge.svg\" alt=\"Open In Colab\"/></a>"
      ]
    },
    {
      "cell_type": "code",
      "metadata": {
        "id": "D85BZ8RxaKwn",
        "colab_type": "code",
        "colab": {}
      },
      "source": [
        "from PIL import Image\n",
        "import os\n",
        "import numpy as np\n",
        "from sklearn import model_selection\n",
        "from sklearn import svm\n",
        "import pandas as pd\n",
        "from sklearn import metrics\n",
        "import argparse"
      ],
      "execution_count": 0,
      "outputs": []
    },
    {
      "cell_type": "code",
      "metadata": {
        "id": "7r8hIJYhaKw8",
        "colab_type": "code",
        "colab": {}
      },
      "source": [
        "# 上3桁から、正解ラベルを取得し、パスと対応させる\n",
        "def get_dictionary(dir):\n",
        "    print('start:get_dictionary')\n",
        "    file_dictionary = {}\n",
        "    for file in os.listdir(dir):\n",
        "        try:\n",
        "            key = file\n",
        "            value = int(file[0:3])\n",
        "            file_dictionary[key] = value\n",
        "        except:\n",
        "            print(file)\n",
        "    print('end:get_dictionary')\n",
        "    return file_dictionary"
      ],
      "execution_count": 0,
      "outputs": []
    },
    {
      "cell_type": "code",
      "metadata": {
        "id": "zf1vYVGADPRW",
        "colab_type": "code",
        "colab": {}
      },
      "source": [
        ""
      ],
      "execution_count": 0,
      "outputs": []
    },
    {
      "cell_type": "code",
      "metadata": {
        "id": "fTMW5RHGaKxO",
        "colab_type": "code",
        "colab": {}
      },
      "source": [
        "# 画像データをメモリにロードする\n",
        "def get_X(dir, dictionary):\n",
        "    print('start:to_get_X')\n",
        "    X = []\n",
        "    y = []\n",
        "    for key, value in dictionary.items():\n",
        "        img = np.array(Image.open(dir+'/' + key))\n",
        "        X.append(np.ravel(img))\n",
        "        y.append(value)\n",
        "    print('end:to_get_X')\n",
        "    return X, y"
      ],
      "execution_count": 0,
      "outputs": []
    },
    {
      "cell_type": "code",
      "metadata": {
        "id": "coPUzKoNaKxd",
        "colab_type": "code",
        "colab": {}
      },
      "source": [
        "# csvに結果を書き出す\n",
        "def to_csv(y_test, y_predict):\n",
        "    print('start:to_csv')\n",
        "    try:\n",
        "        import csv\n",
        "        f = open('result.csv', 'w')\n",
        "        writer = csv.writer(f)\n",
        "        writer.writerow(['actual', 'predict'])\n",
        "        y_pred = y_predict.tolist()\n",
        "\n",
        "        for i in range(0, len(y_test)):\n",
        "            writer.writerow([y_test[i], y_pred[i]])\n",
        "        f.close()\n",
        "    except:\n",
        "        print('test:{}'.format(y_test))\n",
        "        print('predict:{}'.format(y_predict))\n",
        "    print('end:to_csv')"
      ],
      "execution_count": 0,
      "outputs": []
    },
    {
      "cell_type": "code",
      "metadata": {
        "id": "bUv7TG1_aKxn",
        "colab_type": "code",
        "colab": {}
      },
      "source": [
        "# 分類を実行する\n",
        "def run(X, y):\n",
        "    print('start:run')\n",
        "    X_train, X_test, y_train, y_test = model_selection.train_test_split(X, y, test_size=0.7, random_state=0)\n",
        "    model = svm.SVC()\n",
        "    model.fit(X_train, y_train)\n",
        "    y_predict = model.predict(X_test)\n",
        "    ac_score = metrics.accuracy_score(y_test, y_predict)\n",
        "    to_csv(y_test, y_predict)\n",
        "    print('正解率{0:.1f}%'.format(ac_score * 100))\n",
        "    print('end:run')\n"
      ],
      "execution_count": 0,
      "outputs": []
    },
    {
      "cell_type": "code",
      "metadata": {
        "id": "voNF1oo5aKxy",
        "colab_type": "code",
        "colab": {}
      },
      "source": [
        "# メイン処理を記述する\n",
        "def main(folder):\n",
        "    print('loading:{}'.format(folder))\n",
        "    path = os.getcwd()\n",
        "    dir = path + '/' + folder + '/'\n",
        "    file_dictionary = get_dictionary(dir)\n",
        "    X, y = get_X(dir, file_dictionary)\n",
        "    run(X, y)"
      ],
      "execution_count": 0,
      "outputs": []
    },
    {
      "cell_type": "code",
      "metadata": {
        "id": "u-5aEdjKaKx_",
        "colab_type": "code",
        "outputId": "10bacc75-6fe6-4a53-b8c2-7d5bdffedd93",
        "colab": {
          "base_uri": "https://localhost:8080/",
          "height": 258
        }
      },
      "source": [
        "!if [ -e result.csv ]; then mv result.csv result.csv.bak fi\n",
        "main('drive/My Drive/Colab Notebooks/img')"
      ],
      "execution_count": 32,
      "outputs": [
        {
          "output_type": "stream",
          "text": [
            "/bin/bash: -c: line 1: syntax error: unexpected end of file\n",
            "loading:drive/My Drive/Colab Notebooks/img\n",
            "start:get_dictionary\n",
            "end:get_dictionary\n",
            "start:to_get_X\n",
            "end:to_get_X\n",
            "start:run\n"
          ],
          "name": "stdout"
        },
        {
          "output_type": "stream",
          "text": [
            "/usr/local/lib/python3.6/dist-packages/sklearn/svm/base.py:193: FutureWarning: The default value of gamma will change from 'auto' to 'scale' in version 0.22 to account better for unscaled features. Set gamma explicitly to 'auto' or 'scale' to avoid this warning.\n",
            "  \"avoid this warning.\", FutureWarning)\n"
          ],
          "name": "stderr"
        },
        {
          "output_type": "stream",
          "text": [
            "start:to_csv\n",
            "end:to_csv\n",
            "正解率51.0%\n",
            "end:run\n"
          ],
          "name": "stdout"
        }
      ]
    },
    {
      "cell_type": "code",
      "metadata": {
        "id": "zZBrr4ODaKyG",
        "colab_type": "code",
        "colab": {
          "base_uri": "https://localhost:8080/",
          "height": 204
        },
        "outputId": "982defb4-a798-4ca4-ea37-b522e2680300"
      },
      "source": [
        "# 結果ファイルを見る\n",
        "df = pd.read_csv('result.csv')\n",
        "df.head()"
      ],
      "execution_count": 33,
      "outputs": [
        {
          "output_type": "execute_result",
          "data": {
            "text/html": [
              "<div>\n",
              "<style scoped>\n",
              "    .dataframe tbody tr th:only-of-type {\n",
              "        vertical-align: middle;\n",
              "    }\n",
              "\n",
              "    .dataframe tbody tr th {\n",
              "        vertical-align: top;\n",
              "    }\n",
              "\n",
              "    .dataframe thead th {\n",
              "        text-align: right;\n",
              "    }\n",
              "</style>\n",
              "<table border=\"1\" class=\"dataframe\">\n",
              "  <thead>\n",
              "    <tr style=\"text-align: right;\">\n",
              "      <th></th>\n",
              "      <th>actual</th>\n",
              "      <th>predict</th>\n",
              "    </tr>\n",
              "  </thead>\n",
              "  <tbody>\n",
              "    <tr>\n",
              "      <th>0</th>\n",
              "      <td>100</td>\n",
              "      <td>100</td>\n",
              "    </tr>\n",
              "    <tr>\n",
              "      <th>1</th>\n",
              "      <td>100</td>\n",
              "      <td>100</td>\n",
              "    </tr>\n",
              "    <tr>\n",
              "      <th>2</th>\n",
              "      <td>100</td>\n",
              "      <td>100</td>\n",
              "    </tr>\n",
              "    <tr>\n",
              "      <th>3</th>\n",
              "      <td>100</td>\n",
              "      <td>100</td>\n",
              "    </tr>\n",
              "    <tr>\n",
              "      <th>4</th>\n",
              "      <td>150</td>\n",
              "      <td>100</td>\n",
              "    </tr>\n",
              "  </tbody>\n",
              "</table>\n",
              "</div>"
            ],
            "text/plain": [
              "   actual  predict\n",
              "0     100      100\n",
              "1     100      100\n",
              "2     100      100\n",
              "3     100      100\n",
              "4     150      100"
            ]
          },
          "metadata": {
            "tags": []
          },
          "execution_count": 33
        }
      ]
    },
    {
      "cell_type": "code",
      "metadata": {
        "id": "DeW9wFg1b2tt",
        "colab_type": "code",
        "colab": {}
      },
      "source": [
        ""
      ],
      "execution_count": 0,
      "outputs": []
    }
  ]
}
{
  "nbformat": 4,
  "nbformat_minor": 0,
  "metadata": {
    "colab": {
      "name": "set_image_file.ipynb",
      "version": "0.3.2",
      "provenance": [],
      "collapsed_sections": [],
      "include_colab_link": true
    },
    "kernelspec": {
      "name": "python3",
      "display_name": "Python 3"
    }
  },
  "cells": [
    {
      "cell_type": "markdown",
      "metadata": {
        "id": "view-in-github",
        "colab_type": "text"
      },
      "source": [
        "<a href=\"https://colab.research.google.com/github/sangyoAcademy2019/step1/blob/master/set_image_file.ipynb\" target=\"_parent\"><img src=\"https://colab.research.google.com/assets/colab-badge.svg\" alt=\"Open In Colab\"/></a>"
      ]
    },
    {
      "cell_type": "code",
      "metadata": {
        "id": "wJv_b0_z0fwx",
        "colab_type": "code",
        "colab": {}
      },
      "source": [
        "# imgフォルダに各種テスト画像を移動させる"
      ],
      "execution_count": 0,
      "outputs": []
    },
    {
      "cell_type": "markdown",
      "metadata": {
        "id": "u7JowQmK5ORU",
        "colab_type": "text"
      },
      "source": [
        ""
      ]
    },
    {
      "cell_type": "code",
      "metadata": {
        "id": "lekHv5xJXvHq",
        "colab_type": "code",
        "outputId": "cd871f97-20cf-4226-d50a-8e408657d8e6",
        "colab": {
          "base_uri": "https://localhost:8080/",
          "height": 122
        }
      },
      "source": [
        "# google drive とマウントさせる\n",
        "from google.colab import drive\n",
        "drive.mount('/content/drive')"
      ],
      "execution_count": 0,
      "outputs": [
        {
          "output_type": "stream",
          "text": [
            "Go to this URL in a browser: https://accounts.google.com/o/oauth2/auth?client_id=947318989803-6bn6qk8qdgf4n4g3pfee6491hc0brc4i.apps.googleusercontent.com&redirect_uri=urn%3Aietf%3Awg%3Aoauth%3A2.0%3Aoob&scope=email%20https%3A%2F%2Fwww.googleapis.com%2Fauth%2Fdocs.test%20https%3A%2F%2Fwww.googleapis.com%2Fauth%2Fdrive%20https%3A%2F%2Fwww.googleapis.com%2Fauth%2Fdrive.photos.readonly%20https%3A%2F%2Fwww.googleapis.com%2Fauth%2Fpeopleapi.readonly&response_type=code\n",
            "\n",
            "Enter your authorization code:\n",
            "··········\n",
            "Mounted at /content/drive\n"
          ],
          "name": "stdout"
        }
      ]
    },
    {
      "cell_type": "code",
      "metadata": {
        "id": "UJ3L07bdX1CZ",
        "colab_type": "code",
        "outputId": "b72eea14-b074-4b58-e253-51efd572ccbc",
        "colab": {
          "base_uri": "https://localhost:8080/",
          "height": 34
        }
      },
      "source": [
        "# google driveへ移動する\n",
        "%cd /content/drive/My Drive/Colab Notebooks"
      ],
      "execution_count": 0,
      "outputs": [
        {
          "output_type": "stream",
          "text": [
            "/content/drive/My Drive/Colab Notebooks\n"
          ],
          "name": "stdout"
        }
      ]
    },
    {
      "cell_type": "code",
      "metadata": {
        "id": "QJ5Nc5Qn5uCR",
        "colab_type": "code",
        "colab": {}
      },
      "source": [
        "# 必要なディレクトリを初期化する\n",
        "!rm -rf img\n",
        "!rm -rf temp\n",
        "!mkdir img\n",
        "!mkdir temp"
      ],
      "execution_count": 0,
      "outputs": []
    },
    {
      "cell_type": "code",
      "metadata": {
        "id": "RBnVyLvtxofY",
        "colab_type": "code",
        "outputId": "68a90c83-d50d-4a58-fae1-c073cdbf33f0",
        "colab": {
          "base_uri": "https://localhost:8080/",
          "height": 1000
        }
      },
      "source": [
        "# 各種ファイルをコピーする\n",
        "!for file in `ls data/50`; do cp \"data/50/${file}\" \"temp/050_${file}\";done\n",
        "!for file in `ls data/100`; do cp \"data/100/${file}\" \"temp/100_${file}\";done\n",
        "!for file in `ls data/150`; do cp \"data/150/${file}\" \"temp/150_${file}\";done"
      ],
      "execution_count": 0,
      "outputs": [
        {
          "output_type": "stream",
          "text": [
            "cp: cannot stat 'data/50/IMG_0682': No such file or directory\n",
            "cp: cannot stat 'data/50/(1).JPG': No such file or directory\n",
            "cp: cannot stat 'data/50/IMG_0682': No such file or directory\n",
            "cp: cannot stat 'data/50/(2).JPG': No such file or directory\n",
            "cp: cannot stat 'data/50/IMG_0682': No such file or directory\n",
            "cp: cannot stat 'data/50/(3).JPG': No such file or directory\n",
            "cp: cannot stat 'data/50/IMG_0682': No such file or directory\n",
            "cp: cannot stat 'data/50/(4).JPG': No such file or directory\n",
            "cp: cannot stat 'data/50/IMG_0683': No such file or directory\n",
            "cp: cannot stat 'data/50/(1).JPG': No such file or directory\n",
            "cp: cannot stat 'data/50/IMG_0683': No such file or directory\n",
            "cp: cannot stat 'data/50/(2).JPG': No such file or directory\n",
            "cp: cannot stat 'data/50/IMG_0683': No such file or directory\n",
            "cp: cannot stat 'data/50/(3).JPG': No such file or directory\n",
            "cp: cannot stat 'data/50/IMG_0687': No such file or directory\n",
            "cp: cannot stat 'data/50/(1).JPG': No such file or directory\n",
            "cp: cannot stat 'data/50/IMG_0688': No such file or directory\n",
            "cp: cannot stat 'data/50/(1).JPG': No such file or directory\n",
            "cp: cannot stat 'data/50/IMG_0688': No such file or directory\n",
            "cp: cannot stat 'data/50/(2).JPG': No such file or directory\n",
            "cp: cannot stat 'data/50/IMG_0688': No such file or directory\n",
            "cp: cannot stat 'data/50/(3).JPG': No such file or directory\n",
            "cp: cannot stat 'data/50/IMG_0719': No such file or directory\n",
            "cp: cannot stat 'data/50/(1).JPG': No such file or directory\n",
            "cp: cannot stat 'data/50/IMG_0719': No such file or directory\n",
            "cp: cannot stat 'data/50/(2).JPG': No such file or directory\n",
            "cp: cannot stat 'data/50/IMG_0719': No such file or directory\n",
            "cp: cannot stat 'data/50/(3).JPG': No such file or directory\n",
            "cp: cannot stat 'data/50/IMG_0719': No such file or directory\n",
            "cp: cannot stat 'data/50/(4).JPG': No such file or directory\n",
            "cp: cannot stat 'data/50/IMG_0719': No such file or directory\n",
            "cp: cannot stat 'data/50/(5).JPG': No such file or directory\n",
            "cp: cannot stat 'data/50/IMG_0719': No such file or directory\n",
            "cp: cannot stat 'data/50/(6).JPG': No such file or directory\n",
            "cp: cannot stat 'data/50/IMG_0720': No such file or directory\n",
            "cp: cannot stat 'data/50/(1).JPG': No such file or directory\n",
            "cp: cannot stat 'data/50/IMG_0720': No such file or directory\n",
            "cp: cannot stat 'data/50/(2).JPG': No such file or directory\n",
            "cp: cannot stat 'data/50/IMG_0721': No such file or directory\n",
            "cp: cannot stat 'data/50/(1).JPG': No such file or directory\n",
            "cp: cannot stat 'data/50/IMG_0721': No such file or directory\n",
            "cp: cannot stat 'data/50/(2).JPG': No such file or directory\n",
            "cp: cannot stat 'data/50/IMG_0723': No such file or directory\n",
            "cp: cannot stat 'data/50/(1).JPG': No such file or directory\n",
            "cp: cannot stat 'data/50/IMG_0724': No such file or directory\n",
            "cp: cannot stat 'data/50/(1).JPG': No such file or directory\n",
            "cp: cannot stat 'data/50/IMG_0725': No such file or directory\n",
            "cp: cannot stat 'data/50/(1).JPG': No such file or directory\n",
            "cp: cannot stat 'data/50/IMG_0725': No such file or directory\n",
            "cp: cannot stat 'data/50/(2).JPG': No such file or directory\n",
            "cp: cannot stat 'data/50/IMG_0725': No such file or directory\n",
            "cp: cannot stat 'data/50/(3).JPG': No such file or directory\n",
            "cp: cannot stat 'data/50/IMG_0725': No such file or directory\n",
            "cp: cannot stat 'data/50/(4).JPG': No such file or directory\n",
            "cp: cannot stat 'data/50/IMG_0725': No such file or directory\n",
            "cp: cannot stat 'data/50/(5).JPG': No such file or directory\n",
            "cp: cannot stat 'data/50/IMG_0725': No such file or directory\n",
            "cp: cannot stat 'data/50/(6).JPG': No such file or directory\n",
            "cp: cannot stat 'data/50/IMG_0725': No such file or directory\n",
            "cp: cannot stat 'data/50/(7).JPG': No such file or directory\n",
            "cp: cannot stat 'data/50/IMG_0726': No such file or directory\n",
            "cp: cannot stat 'data/50/(1).JPG': No such file or directory\n",
            "cp: cannot stat 'data/50/IMG_0726': No such file or directory\n",
            "cp: cannot stat 'data/50/(2).JPG': No such file or directory\n",
            "cp: cannot stat 'data/50/IMG_0726': No such file or directory\n",
            "cp: cannot stat 'data/50/(3).JPG': No such file or directory\n",
            "cp: cannot stat 'data/50/IMG_0726': No such file or directory\n",
            "cp: cannot stat 'data/50/(4).JPG': No such file or directory\n",
            "cp: cannot stat 'data/50/IMG_0726': No such file or directory\n",
            "cp: cannot stat 'data/50/(5).JPG': No such file or directory\n",
            "cp: cannot stat 'data/50/IMG_0727': No such file or directory\n",
            "cp: cannot stat 'data/50/(1).JPG': No such file or directory\n",
            "cp: cannot stat 'data/50/IMG_0727': No such file or directory\n",
            "cp: cannot stat 'data/50/(2).JPG': No such file or directory\n",
            "cp: cannot stat 'data/50/IMG_0727': No such file or directory\n",
            "cp: cannot stat 'data/50/(3).JPG': No such file or directory\n"
          ],
          "name": "stdout"
        }
      ]
    },
    {
      "cell_type": "code",
      "metadata": {
        "id": "IccEkxw90ZUf",
        "colab_type": "code",
        "colab": {}
      },
      "source": [
        ""
      ],
      "execution_count": 0,
      "outputs": []
    }
  ]
}